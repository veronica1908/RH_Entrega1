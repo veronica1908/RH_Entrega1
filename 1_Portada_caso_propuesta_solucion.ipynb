{
  "cells": [
    {
      "cell_type": "markdown",
      "metadata": {
        "id": "view-in-github",
        "colab_type": "text"
      },
      "source": [
        "<a href=\"https://colab.research.google.com/github/veronica1908/RH_Entrega1/blob/main/1_Portada_caso_propuesta_solucion.ipynb\" target=\"_parent\"><img src=\"https://colab.research.google.com/assets/colab-badge.svg\" alt=\"Open In Colab\"/></a>"
      ]
    },
    {
      "cell_type": "markdown",
      "metadata": {
        "id": "8vmvzXFhselr"
      },
      "source": [
        "##<center>Analítica en Recursos Humanos\n",
        "\n",
        "<br>\n",
        "\n",
        "##<center>Cesar Iván Ávila Díaz\n",
        "##<center>Verónica Andrea Morales González\n",
        "<br>\n",
        "\n",
        "##<center>ANALÍTICA III\n",
        "##<center>Juan Camilo España Lopera\n",
        "\n",
        "<br>\n",
        "\n",
        "##<center>Ingeniería Industrial\n",
        "##<center>Facultad de Ingeniería\n",
        "##<center>Universidad de Antioquia\n",
        "##<center>2024-1"
      ]
    },
    {
      "cell_type": "markdown",
      "metadata": {
        "id": "LwLupkujuMWN"
      },
      "source": [
        "#<center>Descripción de la situación\n",
        "Una empresa que tiene alrededor de 4000 empleados tiene una tasa de retiros de alrededor del 15% anual. Esto quiere decir que el 15% de los empleados en un año se retiran de la compañía por diferentes motivos. Los directivos de la empresa consideran que este nivel de retiros es muy alto, ya que trae altos costos para la empresa como: el costo de contratación que incluye todos los procesos desde el reclutamiento, la selección, la contratación y adicionalmente existe un costo relacionado con la capacitación, la curva de aprendizaje y las contrataciones no efectivas que son personas que se retiran de la empresa en el periodo de prueba. Adicionalmente, el retiro de las personas conlleva otras implicaciones negativas para la empresa que se presentan a continuación:\n",
        "\n",
        "1.\tLos proyectos en los que los empleados trabajan se atrasan y se pueden ver comprometidas las fechas establecidas y esto puede llegar a afectar satisfacción de clientes y usuarios.\n",
        "2.\tEl trabajo del área de selección se aumenta y por lo tanto implica tener un área de mayor tamaño para el reclutamiento de las personas que se van.\n",
        "3.\tLos empleados que permanecen tienen que trabajar más para cubrir las labores de las personas que se retiran y para la capacitación de las nuevas que llegan.\n",
        "4.\tEl conocimiento que tenían las personas y su experiencia se pierde y, debido a esto, el tiempo para ejecutar procesos aumenta.\n",
        "\n",
        "Los costos que implica la rotación varían mucho dependiendo de la persona y el cargo que tenía, sin embargo, se podría llegar a una estimación basada en citeriores de expertos, consultar el siguiente artículo: https://www.portafolio.co/economia/empleo/costos-de-la-alta-rotacion-de-personal-en-las-empresas-502333.\n",
        "\n",
        "\n",
        "\n",
        "<br>\n",
        "Con base en la información anterior, se solicita al equipo de analítica proponer estrategias que permitan tomar acciones para reducir el porcentaje de retiros utilizando la información disponible que se tiene de los empleados. Asuma que la fecha actual es 1 de enero de 2017, y el plan y estrategia que proponga, son para reducir los retiros de los empleados durante el año 2017, para el cuál se espera que el porcentaje de retiros no super el 12% de los empleados.\n",
        "\n"
      ]
    },
    {
      "cell_type": "markdown",
      "metadata": {
        "id": "HJEemDvjuRqn"
      },
      "source": [
        "Las bases de datos entregadas son las siguiente:\n",
        "\n",
        "data.dictionay.xlsx:  Descripción de los campos encontrados en las bases de datos.\n",
        "employee_survey_data.csv:  Encuesta realizada a los empleados sobre satisfacción laboral a final de cada año, se tienen el histórico de dos encuestas, la realizada el 31-12-2015 y la que se realizó el 31-12-2016.\n",
        "general_data.csv: Información general de los empleados, dado que la información puede cambiar con el tiempo se extrajo la información con el último corte 31-12-2016 y un histórico con la información con corte 31-12-2015\n",
        "manager_survey_data.csv: Encuesta de desempeño de los empleados realizada por parte de los jefes, se tienen el histórico de dos encuestas, la realizada el 31-12-2015 y la que se realizó el 31-12-2016.\n",
        "retirement_info.csv: Información de retiro de los empleados que dejaron la empresa, se tiene la información de retiro de los empleados de 2015 y 2016, sin embargo, la información de 2015 no se pudo obtener completa por problemas en el almacenamiento de la información, por lo tanto, no están todos los empleados que se retiraron ese año."
      ]
    }
  ],
  "metadata": {
    "colab": {
      "provenance": [],
      "include_colab_link": true
    },
    "kernelspec": {
      "display_name": "Python 3",
      "name": "python3"
    },
    "language_info": {
      "codemirror_mode": {
        "name": "ipython",
        "version": 3
      },
      "file_extension": ".py",
      "mimetype": "text/x-python",
      "name": "python",
      "nbconvert_exporter": "python",
      "pygments_lexer": "ipython3",
      "version": "3.10.1"
    }
  },
  "nbformat": 4,
  "nbformat_minor": 0
}