{
  "cells": [
    {
      "cell_type": "markdown",
      "metadata": {
        "id": "view-in-github",
        "colab_type": "text"
      },
      "source": [
        "<a href=\"https://colab.research.google.com/github/veronica1908/RH_Entrega1/blob/main/_Funciones.ipynb\" target=\"_parent\"><img src=\"https://colab.research.google.com/assets/colab-badge.svg\" alt=\"Open In Colab\"/></a>"
      ]
    },
    {
      "cell_type": "code",
      "source": [
        "#cargar paquetes\n",
        "import pandas as pd\n",
        "import sqlite3 as sql\n",
        "import sys\n",
        "import numpy as np\n",
        "from sklearn.impute import SimpleImputer\n",
        "from sklearn.feature_selection import SelectFromModel\n",
        "from sklearn.model_selection import cross_val_predict, cross_val_score, cross_validate\n",
        "import joblib\n",
        "from sklearn.preprocessing import StandardScaler ## escalar variables\n",
        "\n",
        "#funcion que muestra categorias\n",
        "def categorias(pandas_db,sql_db):\n",
        "    \"\"\"pandas_db= Base de datos con el df de pandas.\\n\n",
        "       sql_db= nombre de la base de datos entre comillas \"\" de sql declarada en el .to_sql() \"\"\"\n",
        "    #conn= sql.connect(\"db_empleados.db\")\n",
        "    for i in range(pandas_db.shape[1]):\n",
        "        db_name=sql_db\n",
        "        column_name=pandas_db.columns.values[i]\n",
        "        texto= f'select {column_name}, count(*) as \"qty\" from {db_name} group by {column_name}'\n",
        "        print(f\"****Variable {column_name}****\")\n",
        "        print(pd.read_sql(texto, sql.connect(\"db_empleados.db\")))\n",
        "\n",
        "#Función que imputa datos para variables numéricas\n",
        "def impute_columns(df, columns, strategy):\n",
        "  imputer = SimpleImputer(strategy=strategy)\n",
        "  for column in columns:\n",
        "    column_imputed = imputer.fit_transform(df[column].values.reshape(-1, 1))\n",
        "    df[column] = column_imputed.flatten()\n",
        "  return df\n",
        "\n",
        "#Funcion uqe ejecuta sql en python\n",
        "def ejecutar_sql (nombre_archivo, cur):\n",
        "  sql_file=open(nombre_archivo)\n",
        "  sql_as_string=sql_file.read()\n",
        "  sql_file.close\n",
        "  cur.executescript(sql_as_string)\n",
        "\n",
        "#funcion para comparar los desempeños de modelos\n",
        "def sel_variables(modelos,X,y,threshold):\n",
        "\n",
        "    var_names_ac=np.array([])\n",
        "    for modelo in modelos:\n",
        "        #modelo=modelos[i]\n",
        "        modelo.fit(X,y)\n",
        "        sel = SelectFromModel(modelo, prefit=True,threshold=threshold)\n",
        "        var_names= sel.get_feature_names_out(modelo.feature_names_in_)\n",
        "        var_names_ac=np.append(var_names_ac, var_names)\n",
        "        var_names_ac=np.unique(var_names_ac)\n",
        "\n",
        "    return var_names_ac\n",
        "\n",
        "#mide la smetricas de los modelos\n",
        "\n",
        "def medir_modelos(modelos,scoring,X,y,cv):\n",
        "\n",
        "    metric_modelos=pd.DataFrame()\n",
        "    for modelo in modelos:\n",
        "        scores=cross_val_score(modelo,X,y, scoring=scoring, cv=cv )\n",
        "        pdscores=pd.DataFrame(scores)\n",
        "        metric_modelos=pd.concat([metric_modelos,pdscores],axis=1)\n",
        "\n",
        "    metric_modelos.columns=[\"ran_forest\",\"decision_tree\",\"reg_lineal\",\"gradient_boosting\"]\n",
        "    return metric_modelos"
      ],
      "metadata": {
        "id": "tXMv0-uVOAil"
      },
      "execution_count": 1,
      "outputs": []
    }
  ],
  "metadata": {
    "colab": {
      "provenance": [],
      "include_colab_link": true
    },
    "kernelspec": {
      "display_name": "Python 3",
      "name": "python3"
    },
    "language_info": {
      "codemirror_mode": {
        "name": "ipython",
        "version": 3
      },
      "file_extension": ".py",
      "mimetype": "text/x-python",
      "name": "python",
      "nbconvert_exporter": "python",
      "pygments_lexer": "ipython3",
      "version": "3.10.1"
    }
  },
  "nbformat": 4,
  "nbformat_minor": 0
}