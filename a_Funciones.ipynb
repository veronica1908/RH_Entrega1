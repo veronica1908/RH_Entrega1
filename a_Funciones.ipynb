{
  "cells": [
    {
      "cell_type": "markdown",
      "metadata": {
        "colab_type": "text",
        "id": "view-in-github"
      },
      "source": [
        "<a href=\"https://colab.research.google.com/github/veronica1908/RH_Entrega1/blob/main/0_Funciones.ipynb\" target=\"_parent\"><img src=\"https://colab.research.google.com/assets/colab-badge.svg\" alt=\"Open In Colab\"/></a>"
      ]
    },
    {
      "cell_type": "code",
      "execution_count": 1,
      "metadata": {
        "colab": {
          "base_uri": "https://localhost:8080/",
          "height": 1000
        },
        "id": "7OfudLC6WAYk",
        "outputId": "a1814bd4-3cea-4b34-9c07-754c37301b29"
      },
      "outputs": [],
      "source": [
        "def cargar_librerias():\n",
        "    ### Carga de paquetes y librerías\n",
        "    #Preparamos complementos, librerías\n",
        "    import warnings\n",
        "    warnings.filterwarnings(\"ignore\")\n",
        "    !pip install pandas numpy sweetviz seaborn matplotlib scikit-learn\n",
        "    !pip install tensorflow\n",
        "    !pip install keras\n",
        "    !pip install scikit-learn\n",
        "    !pip install sweetviz\n",
        "\n",
        "    # Configuración para visualización\n",
        "    sns.set(style=\"whitegrid\")\n",
        "    plt.style.use('ggplot')\n",
        "\n",
        "    print(\"Librerías cargadas con éxito.\")"
      ]
    },
    {
      "cell_type": "code",
      "execution_count": 2,
      "metadata": {},
      "outputs": [],
      "source": [
        "#funcion para comparar los desempeños de modelos\n",
        "def sel_variables(modelos,X,y,threshold):\n",
        "    \n",
        "    var_names_ac=np.array([])\n",
        "    for modelo in modelos:\n",
        "        #modelo=modelos[i]\n",
        "        modelo.fit(X,y)\n",
        "        sel = SelectFromModel(modelo, prefit=True,threshold=threshold)\n",
        "        var_names= sel.get_feature_names_out(modelo.feature_names_in_)\n",
        "        var_names_ac=np.append(var_names_ac, var_names)\n",
        "        var_names_ac=np.unique(var_names_ac)\n",
        "    \n",
        "    return var_names_ac"
      ]
    }
  ],
  "metadata": {
    "colab": {
      "include_colab_link": true,
      "provenance": []
    },
    "kernelspec": {
      "display_name": "Python 3",
      "name": "python3"
    },
    "language_info": {
      "codemirror_mode": {
        "name": "ipython",
        "version": 3
      },
      "file_extension": ".py",
      "mimetype": "text/x-python",
      "name": "python",
      "nbconvert_exporter": "python",
      "pygments_lexer": "ipython3",
      "version": "3.10.1"
    }
  },
  "nbformat": 4,
  "nbformat_minor": 0
}
