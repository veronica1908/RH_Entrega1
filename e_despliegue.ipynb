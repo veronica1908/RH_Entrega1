{
  "nbformat": 4,
  "nbformat_minor": 0,
  "metadata": {
    "colab": {
      "provenance": [],
      "authorship_tag": "ABX9TyMLbwdpRIXfrUafHUwcZDUD",
      "include_colab_link": true
    },
    "kernelspec": {
      "name": "python3",
      "display_name": "Python 3"
    },
    "language_info": {
      "name": "python"
    }
  },
  "cells": [
    {
      "cell_type": "markdown",
      "metadata": {
        "id": "view-in-github",
        "colab_type": "text"
      },
      "source": [
        "<a href=\"https://colab.research.google.com/github/veronica1908/RH_Entrega1/blob/main/e_despliegue.ipynb\" target=\"_parent\"><img src=\"https://colab.research.google.com/assets/colab-badge.svg\" alt=\"Open In Colab\"/></a>"
      ]
    },
    {
      "cell_type": "markdown",
      "source": [
        "#Conexiones"
      ],
      "metadata": {
        "id": "HieuNYn-7Koa"
      }
    },
    {
      "cell_type": "code",
      "execution_count": 7,
      "metadata": {
        "colab": {
          "base_uri": "https://localhost:8080/",
          "height": 332
        },
        "id": "AY-wWzMA629p",
        "outputId": "fba066b6-4465-4d2e-de8b-b2e472c03bdf"
      },
      "outputs": [
        {
          "output_type": "error",
          "ename": "NameError",
          "evalue": "name 'null' is not defined",
          "traceback": [
            "\u001b[0;31m---------------------------------------------------------------------------\u001b[0m",
            "\u001b[0;31mNameError\u001b[0m                                 Traceback (most recent call last)",
            "\u001b[0;32m<ipython-input-7-d980af124ab0>\u001b[0m in \u001b[0;36m<cell line: 2>\u001b[0;34m()\u001b[0m\n\u001b[1;32m      1\u001b[0m \u001b[0;32mfrom\u001b[0m \u001b[0msample_data\u001b[0m \u001b[0;32mimport\u001b[0m \u001b[0ma_funciones\u001b[0m \u001b[0;32mas\u001b[0m \u001b[0mfunciones\u001b[0m \u001b[0;31m# funciones en colab\u001b[0m\u001b[0;34m\u001b[0m\u001b[0;34m\u001b[0m\u001b[0m\n\u001b[0;32m----> 2\u001b[0;31m \u001b[0;32mfrom\u001b[0m \u001b[0msample_data\u001b[0m \u001b[0;32mimport\u001b[0m \u001b[0md_modelopy\u001b[0m \u001b[0;32mas\u001b[0m \u001b[0mmodelos\u001b[0m \u001b[0;31m# modelos en colab\u001b[0m\u001b[0;34m\u001b[0m\u001b[0;34m\u001b[0m\u001b[0m\n\u001b[0m\u001b[1;32m      3\u001b[0m \u001b[0;34m\u001b[0m\u001b[0m\n\u001b[1;32m      4\u001b[0m \u001b[0;31m#import d_modelopy as modelos  ##Modelo\u001b[0m\u001b[0;34m\u001b[0m\u001b[0;34m\u001b[0m\u001b[0m\n\u001b[1;32m      5\u001b[0m \u001b[0;31m#import a_funciones as funciones  ###archivo de funciones propias #en visual\u001b[0m\u001b[0;34m\u001b[0m\u001b[0;34m\u001b[0m\u001b[0m\n",
            "\u001b[0;32m/content/sample_data/d_modelopy.py\u001b[0m in \u001b[0;36m<module>\u001b[0;34m\u001b[0m\n\u001b[1;32m     22\u001b[0m     {\n\u001b[1;32m     23\u001b[0m       \u001b[0;34m\"cell_type\"\u001b[0m\u001b[0;34m:\u001b[0m \u001b[0;34m\"code\"\u001b[0m\u001b[0;34m,\u001b[0m\u001b[0;34m\u001b[0m\u001b[0;34m\u001b[0m\u001b[0m\n\u001b[0;32m---> 24\u001b[0;31m       \u001b[0;34m\"execution_count\"\u001b[0m\u001b[0;34m:\u001b[0m \u001b[0mnull\u001b[0m\u001b[0;34m,\u001b[0m\u001b[0;34m\u001b[0m\u001b[0;34m\u001b[0m\u001b[0m\n\u001b[0m\u001b[1;32m     25\u001b[0m       \"metadata\": {\n\u001b[1;32m     26\u001b[0m         \"colab\": {\n",
            "\u001b[0;31mNameError\u001b[0m: name 'null' is not defined"
          ]
        }
      ],
      "source": [
        "from sample_data import a_funciones as funciones # funciones en colab\n",
        "from sample_data import d_modelopy as modelos # modelos en colab\n",
        "\n",
        "#import d_modelopy as modelos  ##Modelo\n",
        "#import a_funciones as funciones  ###archivo de funciones propias #en visual\n",
        "\n",
        "import pandas as pd ### para manejo de datos\n",
        "import sqlite3 as sql\n",
        "import joblib\n",
        "import openpyxl ## para exportar a excel\n",
        "import numpy as np"
      ]
    },
    {
      "cell_type": "markdown",
      "source": [
        "#Despliegue"
      ],
      "metadata": {
        "id": "dp6I5qyK7RCJ"
      }
    },
    {
      "cell_type": "code",
      "source": [
        "###### el despliegue consiste en dejar todo el código listo para una ejecucion automática en el periodo definido:\n",
        "###### en este caso se ejecutara el proceso de entrenamiento y prediccion anualmente.\n",
        "if __name__==\"__main__\":\n",
        "\n",
        "\n",
        "    ### conectarse a la base de datos ###\n",
        "    conn=sql.connect(\"data\\\\db_empleados\")\n",
        "    cur=conn.cursor()\n",
        "\n",
        "    ### Ejecutar sql de preprocesamiento inicial y juntarlo\n",
        "    #### con base de preprocesamiento con la que se entrenó para evitar perdida de variables por conversión a dummies\n",
        "\n",
        "    funciones.ejecutar_sql('preprocesamientos2.sql',cur) ### con las fechas actualizadas explicativas 2023- predecir 2024\n",
        "    df=pd.read_sql('''select  * from base_completa2''',conn)\n",
        "\n",
        "\n",
        "    ####Otras transformaciones en python (imputación, dummies y seleccion de variables)\n",
        "    df_t= funciones.preparar_datos(df)\n",
        "\n",
        "\n",
        "    ##Cargar modelo y predecir\n",
        "    m_lreg = joblib.load(\"salidas\\\\m_lreg.pkl\")\n",
        "    predicciones=m_lreg.predict(df_t)\n",
        "    pd_pred=pd.DataFrame(predicciones, columns=['pred_perf_2024'])\n",
        "\n",
        "\n",
        "    ###Crear base con predicciones ####\n",
        "\n",
        "    perf_pred=pd.concat([df['EmpID2'],df_t,pd_pred],axis=1)\n",
        "\n",
        "    ####LLevar a BD para despliegue\n",
        "    perf_pred.loc[:,['EmpID2', 'pred_perf_2024']].to_sql(\"perf_pred\",conn,if_exists=\"replace\") ## llevar predicciones a BD con ID Empleados\n",
        "\n",
        "\n",
        "    ####ver_predicciones_bajas ###\n",
        "    emp_pred_bajo=perf_pred.sort_values(by=[\"pred_perf_2024\"],ascending=True).head(10)\n",
        "\n",
        "    emp_pred_bajo.set_index('EmpID2', inplace=True)\n",
        "    pred=emp_pred_bajo.T\n",
        "\n",
        "    coeficientes=pd.DataFrame( np.append(m_lreg.intercept_,m_lreg.coef_) , columns=['coeficientes'])  ### agregar coeficientes\n",
        "\n",
        "    pred.to_excel(\"salidas\\\\prediccion.xlsx\")   #### exportar predicciones mas bajas y variables explicativas\n",
        "    coeficientes.to_excel(\"salidas\\\\coeficientes.xlsx\") ### exportar coeficientes para analizar predicciones"
      ],
      "metadata": {
        "id": "9nXa4MqQ7VZ7"
      },
      "execution_count": null,
      "outputs": []
    }
  ]
}