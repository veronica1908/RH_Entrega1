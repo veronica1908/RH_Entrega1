{
  "cells": [
    {
      "cell_type": "markdown",
      "metadata": {
        "colab_type": "text",
        "id": "view-in-github"
      },
      "source": [
        "<a href=\"https://colab.research.google.com/github/veronica1908/RH_Entrega1/blob/main/e_despliegue.ipynb\" target=\"_parent\"><img src=\"https://colab.research.google.com/assets/colab-badge.svg\" alt=\"Open In Colab\"/></a>"
      ]
    },
    {
      "cell_type": "markdown",
      "metadata": {
        "id": "HieuNYn-7Koa"
      },
      "source": [
        "#Conexiones"
      ]
    },
    {
      "cell_type": "code",
      "execution_count": 1,
      "metadata": {
        "colab": {
          "base_uri": "https://localhost:8080/",
          "height": 332
        },
        "id": "AY-wWzMA629p",
        "outputId": "fba066b6-4465-4d2e-de8b-b2e472c03bdf"
      },
      "outputs": [],
      "source": [
        "import pandas as pd ### para manejo de datos\n",
        "import sqlite3 as sql\n",
        "import joblib\n",
        "import openpyxl ## para exportar a excel\n",
        "import numpy as np\n",
        "import sys #para ver la ruta\n",
        "from sklearn.preprocessing import LabelEncoder\n",
        "\n",
        "sys.path ###Ruta directorio qué tiene paquetes\n",
        "sys.path.append('/content/drive/MyDrive/trabajo/Trabajo-analitica-RH') ## este comanda agrega una ruta\n",
        "\n",
        "import a_funciones as funciones  ###archivo de funciones propias"
      ]
    },
    {
      "cell_type": "markdown",
      "metadata": {
        "id": "dp6I5qyK7RCJ"
      },
      "source": [
        "#Despliegue"
      ]
    },
    {
      "cell_type": "code",
      "execution_count": null,
      "metadata": {
        "id": "9nXa4MqQ7VZ7"
      },
      "outputs": [],
      "source": [
        "###### el despliegue consiste en dejar todo el código listo para una ejecucion automática en el periodo definido:\n",
        "###### en este caso se ejecutara el proceso de entrenamiento y prediccion anualmente.\n",
        "if __name__==\"__main__\":\n",
        "\n",
        "\n",
        "    ### conectarse a la base de datos ###\n",
        "    conn=sql.connect(\"data\\\\db_empleados\")\n",
        "    cur=conn.cursor()\n",
        "\n",
        "    ### Ejecutar sql de preprocesamiento inicial y juntarlo\n",
        "    #### con base de preprocesamiento con la que se entrenó para evitar perdida de variables por conversión a dummies\n",
        "\n",
        "    funciones.ejecutar_sql('preprocesamientos2.sql',cur) ### con las fechas actualizadas explicativas 2023- predecir 2024\n",
        "    df=pd.read_sql('''select  * from base_completa2''',conn)\n",
        "\n",
        "\n",
        "    ####Otras transformaciones en python (imputación, dummies y seleccion de variables)\n",
        "    df_t= funciones.preparar_datos(df)\n",
        "\n",
        "\n",
        "    ##Cargar modelo y predecir\n",
        "    m_lreg = joblib.load(\"salidas\\\\m_lreg.pkl\")\n",
        "    predicciones=m_lreg.predict(df_t)\n",
        "    pd_pred=pd.DataFrame(predicciones, columns=['pred_perf_2024'])\n",
        "\n",
        "\n",
        "    ###Crear base con predicciones ####\n",
        "\n",
        "    perf_pred=pd.concat([df['EmpID2'],df_t,pd_pred],axis=1)\n",
        "\n",
        "    ####LLevar a BD para despliegue\n",
        "    perf_pred.loc[:,['EmpID2', 'pred_perf_2024']].to_sql(\"perf_pred\",conn,if_exists=\"replace\") ## llevar predicciones a BD con ID Empleados\n",
        "\n",
        "\n",
        "    ####ver_predicciones_bajas ###\n",
        "    emp_pred_bajo=perf_pred.sort_values(by=[\"pred_perf_2024\"],ascending=True).head(10)\n",
        "\n",
        "    emp_pred_bajo.set_index('EmpID2', inplace=True)\n",
        "    pred=emp_pred_bajo.T\n",
        "\n",
        "    coeficientes=pd.DataFrame( np.append(m_lreg.intercept_,m_lreg.coef_) , columns=['coeficientes'])  ### agregar coeficientes\n",
        "\n",
        "    pred.to_excel(\"salidas\\\\prediccion.xlsx\")   #### exportar predicciones mas bajas y variables explicativas\n",
        "    coeficientes.to_excel(\"salidas\\\\coeficientes.xlsx\") ### exportar coeficientes para analizar predicciones"
      ]
    }
  ],
  "metadata": {
    "colab": {
      "authorship_tag": "ABX9TyMLbwdpRIXfrUafHUwcZDUD",
      "include_colab_link": true,
      "provenance": []
    },
    "kernelspec": {
      "display_name": "Python 3",
      "name": "python3"
    },
    "language_info": {
      "codemirror_mode": {
        "name": "ipython",
        "version": 3
      },
      "file_extension": ".py",
      "mimetype": "text/x-python",
      "name": "python",
      "nbconvert_exporter": "python",
      "pygments_lexer": "ipython3",
      "version": "3.10.1"
    }
  },
  "nbformat": 4,
  "nbformat_minor": 0
}
